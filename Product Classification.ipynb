{
  "nbformat": 4,
  "nbformat_minor": 0,
  "metadata": {
    "colab": {
      "provenance": []
    },
    "kernelspec": {
      "name": "python3",
      "display_name": "Python 3"
    },
    "language_info": {
      "name": "python"
    }
  },
  "cells": [
    {
      "cell_type": "markdown",
      "source": [
        "# Introduction"
      ],
      "metadata": {
        "id": "o2mmHIZiRW7L"
      }
    },
    {
      "cell_type": "markdown",
      "source": [
        "### Motivation\n",
        "\n",
        "With the number of choices and brands in supermarkets multiplying, it would take great effort to manually sort through items one by one. Hence this project aims to help sort supermarket items by its brand and type. \n",
        "\n",
        "Ideally this can lead to more ambitious projects such as automated checkout systems, item management systems, product recommendation, or even pricing and discounts to help maximize profit. "
      ],
      "metadata": {
        "id": "n5STuAnSORFU"
      }
    },
    {
      "cell_type": "markdown",
      "source": [
        "### Methodology\n",
        "\n",
        "1. Build data set of items using a web scraper.\n",
        "2. Build a Convoluted Neural Network (CNN) to perform classification on items."
      ],
      "metadata": {
        "id": "IyJo7G2xQAmp"
      }
    },
    {
      "cell_type": "markdown",
      "source": [
        "# Build Data Set"
      ],
      "metadata": {
        "id": "AY_MBFBOMHYR"
      }
    },
    {
      "cell_type": "code",
      "source": [
        "import torch\n",
        "import torch.nn as nn\n",
        "import torch.optim as optim\n",
        "import random\n",
        "import time\n",
        "import urllib\n",
        "import numpy as np\n",
        "import matplotlib.pyplot as plt\n",
        "import captum\n",
        "\n",
        "from PIL import Image\n",
        "from random import randint\n",
        "from skimage.transform import resize\n",
        "from torchvision import transforms"
      ],
      "metadata": {
        "id": "4ulL_yMhnt6w"
      },
      "execution_count": 208,
      "outputs": []
    },
    {
      "cell_type": "markdown",
      "source": [
        "Mounting Google Drive to store images of items."
      ],
      "metadata": {
        "id": "m0IwYoeVP3Am"
      }
    },
    {
      "cell_type": "code",
      "execution_count": 2,
      "metadata": {
        "colab": {
          "base_uri": "https://localhost:8080/"
        },
        "id": "MYCPHib1ElXq",
        "outputId": "c2dc4166-8c93-47c6-c0b0-0043cad6ccb9"
      },
      "outputs": [
        {
          "output_type": "stream",
          "name": "stdout",
          "text": [
            "Mounted at /content/gdrive\n",
            "/content/gdrive/My Drive/items_dataset\n",
            "/content/gdrive/My Drive/items_dataset\n"
          ]
        }
      ],
      "source": [
        "import sys, os\n",
        "from google.colab import drive\n",
        "\n",
        "if 'google.colab' in sys.modules:\n",
        "    drive.mount('/content/gdrive')\n",
        "    path_to_file = '/content/gdrive/My Drive/items_dataset'\n",
        "    print(path_to_file)\n",
        "    os.chdir(path_to_file)\n",
        "    !pwd"
      ]
    },
    {
      "cell_type": "code",
      "execution_count": 3,
      "metadata": {
        "colab": {
          "base_uri": "https://localhost:8080/"
        },
        "id": "9xXEW16bklzV",
        "outputId": "21eca4b7-531a-4454-eee2-e8494b536a26"
      },
      "outputs": [
        {
          "output_type": "stream",
          "name": "stdout",
          "text": [
            "Executing: /tmp/apt-key-gpghome.4t4cfbBnMS/gpg.1.sh --keyserver keyserver.ubuntu.com --recv-keys DCC9EFBF77E11517\n",
            "gpg: key DCC9EFBF77E11517: public key \"Debian Stable Release Key (10/buster) <debian-release@lists.debian.org>\" imported\n",
            "gpg: Total number processed: 1\n",
            "gpg:               imported: 1\n",
            "Executing: /tmp/apt-key-gpghome.8qU50GVLMW/gpg.1.sh --keyserver keyserver.ubuntu.com --recv-keys 648ACFD622F3D138\n",
            "gpg: key DC30D7C23CBBABEE: public key \"Debian Archive Automatic Signing Key (10/buster) <ftpmaster@debian.org>\" imported\n",
            "gpg: Total number processed: 1\n",
            "gpg:               imported: 1\n",
            "Executing: /tmp/apt-key-gpghome.GKOiKih2S2/gpg.1.sh --keyserver keyserver.ubuntu.com --recv-keys 112695A0E562B32A\n",
            "gpg: key 4DFAB270CAA96DFA: public key \"Debian Security Archive Automatic Signing Key (10/buster) <ftpmaster@debian.org>\" imported\n",
            "gpg: Total number processed: 1\n",
            "gpg:               imported: 1\n",
            "Warning: apt-key output should not be parsed (stdout is not a terminal)\n",
            "Warning: apt-key output should not be parsed (stdout is not a terminal)\n",
            "Warning: apt-key output should not be parsed (stdout is not a terminal)\n",
            "Get:1 http://deb.debian.org/debian buster InRelease [122 kB]\n",
            "Get:2 http://deb.debian.org/debian buster-updates InRelease [56.6 kB]\n",
            "Get:3 http://deb.debian.org/debian-security buster/updates InRelease [34.8 kB]\n",
            "Get:4 https://cloud.r-project.org/bin/linux/ubuntu focal-cran40/ InRelease [3,622 B]\n",
            "Ign:5 https://developer.download.nvidia.com/compute/machine-learning/repos/ubuntu2004/x86_64  InRelease\n",
            "Hit:6 https://developer.download.nvidia.com/compute/cuda/repos/ubuntu2004/x86_64  InRelease\n",
            "Get:7 http://deb.debian.org/debian buster/main amd64 Packages [10.7 MB]\n",
            "Hit:8 https://developer.download.nvidia.com/compute/machine-learning/repos/ubuntu2004/x86_64  Release\n",
            "Get:9 http://deb.debian.org/debian buster-updates/main amd64 Packages [9,745 B]\n",
            "Get:10 http://deb.debian.org/debian-security buster/updates/main amd64 Packages [550 kB]\n",
            "Hit:11 http://archive.ubuntu.com/ubuntu focal InRelease\n",
            "Get:12 http://ppa.launchpad.net/c2d4u.team/c2d4u4.0+/ubuntu focal InRelease [18.1 kB]\n",
            "Get:13 http://security.ubuntu.com/ubuntu focal-security InRelease [114 kB]\n",
            "Get:14 https://cloud.r-project.org/bin/linux/ubuntu focal-cran40/ Packages [71.6 kB]\n",
            "Get:15 http://archive.ubuntu.com/ubuntu focal-updates InRelease [114 kB]\n",
            "Hit:17 http://ppa.launchpad.net/cran/libgit2/ubuntu focal InRelease\n",
            "Hit:18 http://ppa.launchpad.net/deadsnakes/ppa/ubuntu focal InRelease\n",
            "Get:19 http://archive.ubuntu.com/ubuntu focal-backports InRelease [108 kB]\n",
            "Hit:20 http://ppa.launchpad.net/graphics-drivers/ppa/ubuntu focal InRelease\n",
            "Get:21 http://security.ubuntu.com/ubuntu focal-security/universe amd64 Packages [998 kB]\n",
            "Hit:22 http://ppa.launchpad.net/ubuntugis/ppa/ubuntu focal InRelease\n",
            "Get:23 http://archive.ubuntu.com/ubuntu focal-updates/universe amd64 Packages [1,297 kB]\n",
            "Get:24 http://ppa.launchpad.net/c2d4u.team/c2d4u4.0+/ubuntu focal/main Sources [2,386 kB]\n",
            "Get:25 http://security.ubuntu.com/ubuntu focal-security/main amd64 Packages [2,496 kB]\n",
            "Get:26 http://archive.ubuntu.com/ubuntu focal-updates/main amd64 Packages [2,970 kB]\n",
            "Get:27 http://ppa.launchpad.net/c2d4u.team/c2d4u4.0+/ubuntu focal/main amd64 Packages [1,130 kB]\n",
            "Fetched 23.2 MB in 4s (5,526 kB/s)\n",
            "Reading package lists... Done\n",
            "Reading package lists... Done\n",
            "Building dependency tree       \n",
            "Reading state information... Done\n",
            "The following package was automatically installed and is no longer required:\n",
            "  libnvidia-common-510\n",
            "Use 'apt autoremove' to remove it.\n",
            "The following additional packages will be installed:\n",
            "  chromium-common chromium-sandbox libevent-2.1-6 libicu63 libimobiledevice6\n",
            "  libjpeg62-turbo libplist3 libre2-5 libu2f-udev libusbmuxd6 libvpx5\n",
            "  libxxf86dga1 upower usbmuxd x11-utils\n",
            "Suggested packages:\n",
            "  chromium-l10n chromium-shell libusbmuxd-tools mesa-utils\n",
            "The following NEW packages will be installed:\n",
            "  chromium chromium-common chromium-driver chromium-sandbox libevent-2.1-6\n",
            "  libicu63 libimobiledevice6 libjpeg62-turbo libplist3 libre2-5 libu2f-udev\n",
            "  libusbmuxd6 libvpx5 libxxf86dga1 upower usbmuxd x11-utils\n",
            "0 upgraded, 17 newly installed, 0 to remove and 23 not upgraded.\n",
            "Need to get 74.6 MB of archives.\n",
            "After this operation, 256 MB of additional disk space will be used.\n",
            "Get:1 http://deb.debian.org/debian buster/main amd64 libevent-2.1-6 amd64 2.1.8-stable-4 [177 kB]\n",
            "Get:2 http://deb.debian.org/debian buster/main amd64 libicu63 amd64 63.1-6+deb10u3 [8,293 kB]\n",
            "Get:3 http://deb.debian.org/debian buster/main amd64 libjpeg62-turbo amd64 1:1.5.2-2+deb10u1 [133 kB]\n",
            "Get:4 http://deb.debian.org/debian buster/main amd64 libvpx5 amd64 1.7.0-3+deb10u1 [800 kB]\n",
            "Get:5 http://deb.debian.org/debian buster/main amd64 chromium-common amd64 90.0.4430.212-1~deb10u1 [1,423 kB]\n",
            "Get:6 http://deb.debian.org/debian buster/main amd64 chromium amd64 90.0.4430.212-1~deb10u1 [58.3 MB]\n",
            "Get:7 http://archive.ubuntu.com/ubuntu focal/main amd64 libre2-5 amd64 20200101+dfsg-1build1 [162 kB]\n",
            "Get:8 http://deb.debian.org/debian buster/main amd64 chromium-driver amd64 90.0.4430.212-1~deb10u1 [4,703 kB]\n",
            "Get:9 http://deb.debian.org/debian buster/main amd64 chromium-sandbox amd64 90.0.4430.212-1~deb10u1 [146 kB]\n",
            "Get:10 http://archive.ubuntu.com/ubuntu focal/main amd64 libxxf86dga1 amd64 2:1.1.5-0ubuntu1 [12.0 kB]\n",
            "Get:11 http://archive.ubuntu.com/ubuntu focal/main amd64 x11-utils amd64 7.7+5 [199 kB]\n",
            "Get:12 http://archive.ubuntu.com/ubuntu focal/main amd64 libplist3 amd64 2.1.0-4build2 [31.6 kB]\n",
            "Get:13 http://archive.ubuntu.com/ubuntu focal/main amd64 libusbmuxd6 amd64 2.0.1-2 [19.1 kB]\n",
            "Get:14 http://archive.ubuntu.com/ubuntu focal/main amd64 libimobiledevice6 amd64 1.2.1~git20191129.9f79242-1build1 [65.2 kB]\n",
            "Get:15 http://archive.ubuntu.com/ubuntu focal/main amd64 libu2f-udev all 1.1.10-1 [6,108 B]\n",
            "Get:16 http://archive.ubuntu.com/ubuntu focal/main amd64 upower amd64 0.99.11-1build2 [104 kB]\n",
            "Get:17 http://archive.ubuntu.com/ubuntu focal/main amd64 usbmuxd amd64 1.1.1~git20191130.9af2b12-1 [38.4 kB]\n",
            "Fetched 74.6 MB in 1s (61.1 MB/s)\n",
            "Selecting previously unselected package libevent-2.1-6:amd64.\n",
            "(Reading database ... 128126 files and directories currently installed.)\n",
            "Preparing to unpack .../00-libevent-2.1-6_2.1.8-stable-4_amd64.deb ...\n",
            "Unpacking libevent-2.1-6:amd64 (2.1.8-stable-4) ...\n",
            "Selecting previously unselected package libicu63:amd64.\n",
            "Preparing to unpack .../01-libicu63_63.1-6+deb10u3_amd64.deb ...\n",
            "Unpacking libicu63:amd64 (63.1-6+deb10u3) ...\n",
            "Selecting previously unselected package libjpeg62-turbo:amd64.\n",
            "Preparing to unpack .../02-libjpeg62-turbo_1%3a1.5.2-2+deb10u1_amd64.deb ...\n",
            "Unpacking libjpeg62-turbo:amd64 (1:1.5.2-2+deb10u1) ...\n",
            "Selecting previously unselected package libre2-5:amd64.\n",
            "Preparing to unpack .../03-libre2-5_20200101+dfsg-1build1_amd64.deb ...\n",
            "Unpacking libre2-5:amd64 (20200101+dfsg-1build1) ...\n",
            "Selecting previously unselected package libvpx5:amd64.\n",
            "Preparing to unpack .../04-libvpx5_1.7.0-3+deb10u1_amd64.deb ...\n",
            "Unpacking libvpx5:amd64 (1.7.0-3+deb10u1) ...\n",
            "Selecting previously unselected package libxxf86dga1:amd64.\n",
            "Preparing to unpack .../05-libxxf86dga1_2%3a1.1.5-0ubuntu1_amd64.deb ...\n",
            "Unpacking libxxf86dga1:amd64 (2:1.1.5-0ubuntu1) ...\n",
            "Selecting previously unselected package x11-utils.\n",
            "Preparing to unpack .../06-x11-utils_7.7+5_amd64.deb ...\n",
            "Unpacking x11-utils (7.7+5) ...\n",
            "Selecting previously unselected package chromium-common.\n",
            "Preparing to unpack .../07-chromium-common_90.0.4430.212-1~deb10u1_amd64.deb ...\n",
            "Unpacking chromium-common (90.0.4430.212-1~deb10u1) ...\n",
            "Selecting previously unselected package chromium.\n",
            "Preparing to unpack .../08-chromium_90.0.4430.212-1~deb10u1_amd64.deb ...\n",
            "Unpacking chromium (90.0.4430.212-1~deb10u1) ...\n",
            "Selecting previously unselected package chromium-driver.\n",
            "Preparing to unpack .../09-chromium-driver_90.0.4430.212-1~deb10u1_amd64.deb ...\n",
            "Unpacking chromium-driver (90.0.4430.212-1~deb10u1) ...\n",
            "Selecting previously unselected package chromium-sandbox.\n",
            "Preparing to unpack .../10-chromium-sandbox_90.0.4430.212-1~deb10u1_amd64.deb ...\n",
            "Unpacking chromium-sandbox (90.0.4430.212-1~deb10u1) ...\n",
            "Selecting previously unselected package libplist3:amd64.\n",
            "Preparing to unpack .../11-libplist3_2.1.0-4build2_amd64.deb ...\n",
            "Unpacking libplist3:amd64 (2.1.0-4build2) ...\n",
            "Selecting previously unselected package libusbmuxd6:amd64.\n",
            "Preparing to unpack .../12-libusbmuxd6_2.0.1-2_amd64.deb ...\n",
            "Unpacking libusbmuxd6:amd64 (2.0.1-2) ...\n",
            "Selecting previously unselected package libimobiledevice6:amd64.\n",
            "Preparing to unpack .../13-libimobiledevice6_1.2.1~git20191129.9f79242-1build1_amd64.deb ...\n",
            "Unpacking libimobiledevice6:amd64 (1.2.1~git20191129.9f79242-1build1) ...\n",
            "Selecting previously unselected package libu2f-udev.\n",
            "Preparing to unpack .../14-libu2f-udev_1.1.10-1_all.deb ...\n",
            "Unpacking libu2f-udev (1.1.10-1) ...\n",
            "Selecting previously unselected package upower.\n",
            "Preparing to unpack .../15-upower_0.99.11-1build2_amd64.deb ...\n",
            "Unpacking upower (0.99.11-1build2) ...\n",
            "Selecting previously unselected package usbmuxd.\n",
            "Preparing to unpack .../16-usbmuxd_1.1.1~git20191130.9af2b12-1_amd64.deb ...\n",
            "Unpacking usbmuxd (1.1.1~git20191130.9af2b12-1) ...\n",
            "Setting up libplist3:amd64 (2.1.0-4build2) ...\n",
            "Setting up libu2f-udev (1.1.10-1) ...\n",
            "Failed to send reload request: No such file or directory\n",
            "Setting up libxxf86dga1:amd64 (2:1.1.5-0ubuntu1) ...\n",
            "Setting up chromium-sandbox (90.0.4430.212-1~deb10u1) ...\n",
            "Setting up libicu63:amd64 (63.1-6+deb10u3) ...\n",
            "Setting up libjpeg62-turbo:amd64 (1:1.5.2-2+deb10u1) ...\n",
            "Setting up libevent-2.1-6:amd64 (2.1.8-stable-4) ...\n",
            "Setting up libusbmuxd6:amd64 (2.0.1-2) ...\n",
            "Setting up x11-utils (7.7+5) ...\n",
            "Setting up libre2-5:amd64 (20200101+dfsg-1build1) ...\n",
            "Setting up chromium-common (90.0.4430.212-1~deb10u1) ...\n",
            "Setting up libimobiledevice6:amd64 (1.2.1~git20191129.9f79242-1build1) ...\n",
            "Setting up libvpx5:amd64 (1.7.0-3+deb10u1) ...\n",
            "Setting up upower (0.99.11-1build2) ...\n",
            "Setting up usbmuxd (1.1.1~git20191130.9af2b12-1) ...\n",
            "Warning: The home dir /var/lib/usbmux you specified can't be accessed: No such file or directory\n",
            "Adding system user `usbmux' (UID 107) ...\n",
            "Adding new user `usbmux' (UID 107) with group `plugdev' ...\n",
            "Not creating home directory `/var/lib/usbmux'.\n",
            "Setting up chromium (90.0.4430.212-1~deb10u1) ...\n",
            "update-alternatives: using /usr/bin/chromium to provide /usr/bin/x-www-browser (x-www-browser) in auto mode\n",
            "update-alternatives: using /usr/bin/chromium to provide /usr/bin/gnome-www-browser (gnome-www-browser) in auto mode\n",
            "Setting up chromium-driver (90.0.4430.212-1~deb10u1) ...\n",
            "Processing triggers for man-db (2.9.1-1) ...\n",
            "Processing triggers for dbus (1.12.16-2ubuntu2.3) ...\n",
            "Processing triggers for mime-support (3.64ubuntu1) ...\n",
            "Processing triggers for hicolor-icon-theme (0.17-2) ...\n",
            "Processing triggers for libc-bin (2.31-0ubuntu9.9) ...\n",
            "Looking in indexes: https://pypi.org/simple, https://us-python.pkg.dev/colab-wheels/public/simple/\n",
            "Collecting selenium\n",
            "  Downloading selenium-4.8.2-py3-none-any.whl (6.9 MB)\n",
            "\u001b[2K     \u001b[90m━━━━━━━━━━━━━━━━━━━━━━━━━━━━━━━━━━━━━━━━\u001b[0m \u001b[32m6.9/6.9 MB\u001b[0m \u001b[31m49.9 MB/s\u001b[0m eta \u001b[36m0:00:00\u001b[0m\n",
            "\u001b[?25hRequirement already satisfied: certifi>=2021.10.8 in /usr/local/lib/python3.8/dist-packages (from selenium) (2022.12.7)\n",
            "Collecting urllib3[socks]~=1.26\n",
            "  Downloading urllib3-1.26.14-py2.py3-none-any.whl (140 kB)\n",
            "\u001b[2K     \u001b[90m━━━━━━━━━━━━━━━━━━━━━━━━━━━━━━━━━━━━━━\u001b[0m \u001b[32m140.6/140.6 KB\u001b[0m \u001b[31m11.2 MB/s\u001b[0m eta \u001b[36m0:00:00\u001b[0m\n",
            "\u001b[?25hCollecting trio~=0.17\n",
            "  Downloading trio-0.22.0-py3-none-any.whl (384 kB)\n",
            "\u001b[2K     \u001b[90m━━━━━━━━━━━━━━━━━━━━━━━━━━━━━━━━━━━━━━\u001b[0m \u001b[32m384.9/384.9 KB\u001b[0m \u001b[31m27.3 MB/s\u001b[0m eta \u001b[36m0:00:00\u001b[0m\n",
            "\u001b[?25hCollecting trio-websocket~=0.9\n",
            "  Downloading trio_websocket-0.9.2-py3-none-any.whl (16 kB)\n",
            "Requirement already satisfied: attrs>=19.2.0 in /usr/local/lib/python3.8/dist-packages (from trio~=0.17->selenium) (22.2.0)\n",
            "Collecting async-generator>=1.9\n",
            "  Downloading async_generator-1.10-py3-none-any.whl (18 kB)\n",
            "Collecting sniffio\n",
            "  Downloading sniffio-1.3.0-py3-none-any.whl (10 kB)\n",
            "Collecting outcome\n",
            "  Downloading outcome-1.2.0-py2.py3-none-any.whl (9.7 kB)\n",
            "Collecting exceptiongroup>=1.0.0rc9\n",
            "  Downloading exceptiongroup-1.1.0-py3-none-any.whl (14 kB)\n",
            "Requirement already satisfied: sortedcontainers in /usr/local/lib/python3.8/dist-packages (from trio~=0.17->selenium) (2.4.0)\n",
            "Requirement already satisfied: idna in /usr/local/lib/python3.8/dist-packages (from trio~=0.17->selenium) (2.10)\n",
            "Collecting wsproto>=0.14\n",
            "  Downloading wsproto-1.2.0-py3-none-any.whl (24 kB)\n",
            "Requirement already satisfied: PySocks!=1.5.7,<2.0,>=1.5.6 in /usr/local/lib/python3.8/dist-packages (from urllib3[socks]~=1.26->selenium) (1.7.1)\n",
            "Collecting h11<1,>=0.9.0\n",
            "  Downloading h11-0.14.0-py3-none-any.whl (58 kB)\n",
            "\u001b[2K     \u001b[90m━━━━━━━━━━━━━━━━━━━━━━━━━━━━━━━━━━━━━━━━\u001b[0m \u001b[32m58.3/58.3 KB\u001b[0m \u001b[31m7.0 MB/s\u001b[0m eta \u001b[36m0:00:00\u001b[0m\n",
            "\u001b[?25hInstalling collected packages: urllib3, sniffio, outcome, h11, exceptiongroup, async-generator, wsproto, trio, trio-websocket, selenium\n",
            "  Attempting uninstall: urllib3\n",
            "    Found existing installation: urllib3 1.24.3\n",
            "    Uninstalling urllib3-1.24.3:\n",
            "      Successfully uninstalled urllib3-1.24.3\n",
            "Successfully installed async-generator-1.10 exceptiongroup-1.1.0 h11-0.14.0 outcome-1.2.0 selenium-4.8.2 sniffio-1.3.0 trio-0.22.0 trio-websocket-0.9.2 urllib3-1.26.14 wsproto-1.2.0\n"
          ]
        },
        {
          "output_type": "execute_result",
          "data": {
            "text/plain": []
          },
          "metadata": {},
          "execution_count": 3
        }
      ],
      "source": [
        "%%shell\n",
        "# Ubuntu no longer distributes chromium-browser outside of snap\n",
        "#\n",
        "# Proposed solution: https://askubuntu.com/questions/1204571/how-to-install-chromium-without-snap\n",
        "\n",
        "# Add debian buster\n",
        "cat > /etc/apt/sources.list.d/debian.list <<'EOF'\n",
        "deb [arch=amd64 signed-by=/usr/share/keyrings/debian-buster.gpg] http://deb.debian.org/debian buster main\n",
        "deb [arch=amd64 signed-by=/usr/share/keyrings/debian-buster-updates.gpg] http://deb.debian.org/debian buster-updates main\n",
        "deb [arch=amd64 signed-by=/usr/share/keyrings/debian-security-buster.gpg] http://deb.debian.org/debian-security buster/updates main\n",
        "EOF\n",
        "\n",
        "# Add keys\n",
        "apt-key adv --keyserver keyserver.ubuntu.com --recv-keys DCC9EFBF77E11517\n",
        "apt-key adv --keyserver keyserver.ubuntu.com --recv-keys 648ACFD622F3D138\n",
        "apt-key adv --keyserver keyserver.ubuntu.com --recv-keys 112695A0E562B32A\n",
        "\n",
        "apt-key export 77E11517 | gpg --dearmour -o /usr/share/keyrings/debian-buster.gpg\n",
        "apt-key export 22F3D138 | gpg --dearmour -o /usr/share/keyrings/debian-buster-updates.gpg\n",
        "apt-key export E562B32A | gpg --dearmour -o /usr/share/keyrings/debian-security-buster.gpg\n",
        "\n",
        "# Prefer debian repo for chromium* packages only\n",
        "# Note the double-blank lines between entries\n",
        "cat > /etc/apt/preferences.d/chromium.pref << 'EOF'\n",
        "Package: *\n",
        "Pin: release a=eoan\n",
        "Pin-Priority: 500\n",
        "\n",
        "\n",
        "Package: *\n",
        "Pin: origin \"deb.debian.org\"\n",
        "Pin-Priority: 300\n",
        "\n",
        "\n",
        "Package: chromium*\n",
        "Pin: origin \"deb.debian.org\"\n",
        "Pin-Priority: 700\n",
        "EOF\n",
        "\n",
        "# Install chromium and chromium-driver\n",
        "apt-get update\n",
        "apt-get install chromium chromium-driver\n",
        "\n",
        "# Install selenium\n",
        "pip install selenium"
      ]
    },
    {
      "cell_type": "code",
      "source": [
        "from selenium import webdriver\n",
        "from selenium.webdriver.chrome.options import Options\n",
        "from selenium.webdriver.common.by import By\n",
        "from selenium.webdriver.support.ui import WebDriverWait\n",
        "from selenium.webdriver.support import expected_conditions as EC\n",
        "import selenium\n",
        "\n",
        "options = webdriver.ChromeOptions()\n",
        "options.add_argument('--headless')\n",
        "options.add_argument('--no-sandbox')\n",
        "options.add_argument('--disable-dev-shm-usage')\n",
        "\n",
        "driver = webdriver.Chrome(options=options)"
      ],
      "metadata": {
        "id": "zcwvZFFRlkhc"
      },
      "execution_count": 11,
      "outputs": []
    },
    {
      "cell_type": "markdown",
      "source": [
        "Web scraper to obtain relevant images. Manual filtering is done after to remove irrelevant images."
      ],
      "metadata": {
        "id": "JgTaxSWY_1dZ"
      }
    },
    {
      "cell_type": "code",
      "source": [
        "search = 'smarties+chocolate'\n",
        "filename = 'smarties'\n",
        "\n",
        "url = 'https://www.google.ca/search?q='+search+'&tbm=isch&oq='+search\n",
        "driver.get(url)\n",
        "\n",
        "last_height = driver.execute_script('return document.body.scrollHeight')\n",
        "while True:\n",
        "    driver.execute_script('window.scrollTo(0,document.body.scrollHeight)')\n",
        "    time.sleep(2)\n",
        "    new_height = driver.execute_script('return document.body.scrollHeight')\n",
        "    try:\n",
        "        driver.find_element(by=By.XPATH, value='//*[@id=\"islmp\"]/div/div/div/div/div[5]/input').click()\n",
        "        time.sleep(2)\n",
        "    except:\n",
        "        pass\n",
        "    if new_height == last_height:\n",
        "        break\n",
        "    last_height = new_height\n",
        "\n",
        "download_location = '/content/gdrive/MyDrive/items_dataset/' + filename + \"/\"\n",
        "\n",
        "imgNum = 500\n",
        "downloaded = 0\n",
        "\n",
        "for i in range(1, imgNum):\n",
        "    try:\n",
        "        img = driver.find_element(by=By.XPATH, value='//*[@id=\"islrg\"]/div[1]/div['+str(i)+']/a[1]/div[1]/img')\n",
        "        src = img.get_attribute('src')\n",
        "        urllib.request.urlretrieve(src, download_location + filename + \"(\" + str(i) + \").jpg\")\n",
        "        downloaded += 1\n",
        "    except:\n",
        "        continue\n",
        "\n",
        "print(\"Number of downloaded images:\", downloaded)"
      ],
      "metadata": {
        "id": "XplB4UgGnlIP",
        "colab": {
          "base_uri": "https://localhost:8080/"
        },
        "outputId": "d28398d1-10f8-4777-878d-cf7f6a0c1421"
      },
      "execution_count": 26,
      "outputs": [
        {
          "output_type": "stream",
          "name": "stdout",
          "text": [
            "Number of downloaded images: 185\n"
          ]
        }
      ]
    },
    {
      "cell_type": "markdown",
      "source": [
        "Mapping of brands to its tag."
      ],
      "metadata": {
        "id": "Tzl8ilE-_9-9"
      }
    },
    {
      "cell_type": "code",
      "source": [
        "brands = {\n",
        "  \"arla\" : 0,\n",
        "  \"philadelphia\" : 1,\n",
        "  \"laughing_cow\" : 2,\n",
        "  \"campbell\" : 3,\n",
        "  \"heinz\" : 4,\n",
        "  \"spam\" : 5,\n",
        "  \"haribo\" : 6,\n",
        "  \"mentos\" : 7,\n",
        "  \"skittles\" : 8,\n",
        "  \"smarties\" : 9,\n",
        "}"
      ],
      "metadata": {
        "id": "fizutxIRFRro"
      },
      "execution_count": 342,
      "outputs": []
    },
    {
      "cell_type": "markdown",
      "source": [
        "Converts images into tensors -> compresses them in 32x32 pixel images -> include 4 rotations of each images. "
      ],
      "metadata": {
        "id": "-6qyAkRn-AAp"
      }
    },
    {
      "cell_type": "code",
      "source": [
        "filename = \"smarties\"\n",
        "download_location = '/content/gdrive/MyDrive/items_dataset/' + filename + \"/\"\n",
        "\n",
        "img_tensors = []\n",
        "convert_tensor = transforms.ToTensor()\n",
        "\n",
        "# Standardise size for all images\n",
        "for i in range(1, imgNum):\n",
        "    try:\n",
        "        img = Image.open(download_location + filename + \"(\" + str(i) + \").jpg\")\n",
        "    except:\n",
        "        continue\n",
        "\n",
        "    img = img.resize((32, 32))\n",
        "\n",
        "    # Add different rotations\n",
        "    for angle in range (0, 360, 90):\n",
        "        rotated = img.rotate(angle)\n",
        "\n",
        "        # Convert file from jpg to tensor\n",
        "        x = convert_tensor(rotated)\n",
        "\n",
        "        # Add tensor to list\n",
        "        img_tensors.append(x)\n",
        "\n",
        "data_location = '/content/gdrive/MyDrive/items_dataset/data/' + filename + 'Tensor/'\n",
        "os.makedirs(data_location)\n",
        "\n",
        "# Create the same number of brand labels and type labels\n",
        "label_arr = [brands[filename]] * len(img_tensors)\n",
        "label_tensors = torch.as_tensor(label_arr)\n",
        "\n",
        "type_arr = [types[filename]] * len(img_tensors)\n",
        "type_tensors = torch.as_tensor(type_arr)\n",
        "\n",
        "# Save tensors to file only after all jpgs have been converted\n",
        "torch.save(img_tensors, data_location + filename + 'Tensor.pt')\n",
        "torch.save(label_tensors, data_location + filename + 'Labels.pt')\n",
        "torch.save(type_tensors, data_location + filename + 'TypeLabels.pt')\n",
        "\n",
        "print(\"Number of tensors created:\", len(img_tensors))\n",
        "print(\"Size of 1 tensor:\", img_tensors[0].size() )"
      ],
      "metadata": {
        "colab": {
          "base_uri": "https://localhost:8080/"
        },
        "id": "tlCO1jl-T5it",
        "outputId": "7a375c8f-0950-4d08-a730-da6224a04097"
      },
      "execution_count": 56,
      "outputs": [
        {
          "output_type": "stream",
          "name": "stdout",
          "text": [
            "Number of tensors created: 560\n",
            "Size of 1 tensor: torch.Size([3, 32, 32])\n"
          ]
        }
      ]
    },
    {
      "cell_type": "code",
      "source": [
        "names = brands.keys()\n",
        "data_tensors = []\n",
        "brand_labels = []\n",
        "type_labels = []\n",
        "for filename in names:\n",
        "  data_location = '/content/gdrive/MyDrive/items_dataset/data/' + filename + 'Tensor/'\n",
        "  data = torch.load(data_location + filename + 'Tensor.pt')\n",
        "  brand = torch.load(data_location + filename + 'Labels.pt')\n",
        "  typelab = torch.load(data_location + filename + 'TypeLabels.pt')\n",
        "\n",
        "  data_tensors += data\n",
        "  brand_labels += brand\n",
        "  type_labels += typelab\n",
        "\n",
        "torch.save(data_tensors, '/content/gdrive/MyDrive/items_dataset/data/dataTensors.pt')\n",
        "torch.save(brand_labels, '/content/gdrive/MyDrive/items_dataset/data/brandLabels.pt')\n",
        "torch.save(type_labels, '/content/gdrive/MyDrive/items_dataset/data/typeLabels.pt')\n",
        "\n",
        "print(\"Total number of tensors:\", len(data_tensors))"
      ],
      "metadata": {
        "colab": {
          "base_uri": "https://localhost:8080/"
        },
        "id": "ZrYo9xAfW-Yk",
        "outputId": "2bcca82e-d12a-4e57-c3a9-be49a250d8be"
      },
      "execution_count": 57,
      "outputs": [
        {
          "output_type": "stream",
          "name": "stdout",
          "text": [
            "Total number of tensors: 5892\n"
          ]
        }
      ]
    },
    {
      "cell_type": "markdown",
      "source": [
        "Filter out grayscale images."
      ],
      "metadata": {
        "id": "9CWf7Qg6_pBk"
      }
    },
    {
      "cell_type": "code",
      "source": [
        "data = torch.load('/content/gdrive/MyDrive/items_dataset/data/dataTensors.pt')\n",
        "brands = torch.load('/content/gdrive/MyDrive/items_dataset/data/brandLabels.pt')\n",
        "types = torch.load('/content/gdrive/MyDrive/items_dataset/data/typeLabels.pt')\n",
        "\n",
        "filtered_data = []\n",
        "filtered_brands = []\n",
        "filtered_types = []\n",
        "\n",
        "for i in range(0, 4800):\n",
        "    if (data[i].size(0) == 3):\n",
        "        filtered_data.append(data[i])\n",
        "        filtered_brands.append(brands[i])\n",
        "        filtered_types.append(types[i])\n",
        "\n",
        "# Save to a different file for insurance, remove the \"Cleaned\" part after\n",
        "torch.save(filtered_data, '/content/gdrive/MyDrive/items_dataset/data/dataTensorsCleaned.pt')\n",
        "torch.save(filtered_brands, '/content/gdrive/MyDrive/items_dataset/data/brandLabelsCleaned.pt')\n",
        "torch.save(filtered_types, '/content/gdrive/MyDrive/items_dataset/data/typeLabelsCleaned.pt')\n",
        "\n",
        "print(\"Final total number of usable tensors:\", len(filtered_data))"
      ],
      "metadata": {
        "colab": {
          "base_uri": "https://localhost:8080/"
        },
        "id": "jZDhFE1sX76X",
        "outputId": "405c8dce-7da8-41e5-c4a8-243ad9140df4"
      },
      "execution_count": 58,
      "outputs": [
        {
          "output_type": "stream",
          "name": "stdout",
          "text": [
            "Final total number of usable tensors: 4696\n"
          ]
        }
      ]
    },
    {
      "cell_type": "code",
      "source": [
        "\n",
        "# Load in the intial data sets\n",
        "total_data = torch.load(\"data/dataTensorsCleaned.pt\")\n",
        "type_labels = torch.load(\"data/typeLabelsCleaned.pt\")\n",
        "brand_labels = torch.load(\"data/brandLabelsCleaned.pt\")\n",
        "\n",
        "# Check the size of each dataset and the individual tensors\n",
        "num_total_data = len(total_data)\n",
        "tensor_size = total_data[0].size()\n",
        "type_label_size = len(type_labels)\n",
        "brand_label_size = len(brand_labels)\n",
        "print(f\"There are {num_total_data} images, each of them is of size {tensor_size}.\")\n",
        "print(f\"There are {type_label_size} and {brand_label_size} labels for product types and brand respectively.\")"
      ],
      "metadata": {
        "colab": {
          "base_uri": "https://localhost:8080/"
        },
        "id": "tf-H8WsJXu1Y",
        "outputId": "a49d2a2a-40c3-4647-e4be-19739337980a"
      },
      "execution_count": 59,
      "outputs": [
        {
          "output_type": "stream",
          "name": "stdout",
          "text": [
            "There are 4696 images, each of them is of size torch.Size([3, 32, 32]).\n",
            "There are 4696 and 4696 labels for product types and brand respectively.\n"
          ]
        }
      ]
    },
    {
      "cell_type": "markdown",
      "source": [
        "Separation of data into training and test sets with a ratio of 7:3."
      ],
      "metadata": {
        "id": "qtLSJFpi_evW"
      }
    },
    {
      "cell_type": "code",
      "source": [
        "train_num = 0.7\n",
        "test_num = 1 - train_num\n",
        "print(f\"{train_num * 100}% of total data is used for training, {test_num * 100}% is used for testing.\")\n",
        "\n",
        "num_train_data = int(train_num * num_total_data)\n",
        "num_test_data = num_total_data - num_train_data\n",
        "\n",
        "data_and_labels = list(zip(total_data, brand_labels, type_labels))\n",
        "random.shuffle(data_and_labels)\n",
        "shuffled_data, shuffled_brand_labels, shuffled_type_labels = zip(*data_and_labels)\n",
        "\n",
        "train_data = torch.stack(shuffled_data[0:num_train_data])\n",
        "test_data = torch.stack(shuffled_data[num_train_data:])\n",
        "\n",
        "train_brand_labels = torch.stack(shuffled_brand_labels[0:num_train_data])\n",
        "test_brand_labels = torch.stack(shuffled_brand_labels[num_train_data:])\n",
        "\n",
        "train_type_labels = torch.stack(shuffled_type_labels[0:num_train_data])\n",
        "test_type_labels = torch.stack(shuffled_type_labels[num_train_data:])\n",
        "\n",
        "print(f\"{num_train_data} training data, {num_test_data} test data\")"
      ],
      "metadata": {
        "colab": {
          "base_uri": "https://localhost:8080/"
        },
        "id": "BCkuB43RXhty",
        "outputId": "79ffb882-1296-4d9b-bb2f-1d0e008c50e4"
      },
      "execution_count": 60,
      "outputs": [
        {
          "output_type": "stream",
          "name": "stdout",
          "text": [
            "70.0% of total data is used for training, 30.000000000000004% is used for testing.\n",
            "3287 training data, 1409 test data\n"
          ]
        }
      ]
    },
    {
      "cell_type": "markdown",
      "source": [
        "# Build Convoluted Neural Network (CNN)"
      ],
      "metadata": {
        "id": "KRFbBMsBBfO6"
      }
    },
    {
      "cell_type": "markdown",
      "source": [
        "Obtain mean and standard deviation to normalize data during training."
      ],
      "metadata": {
        "id": "H-U1kD-S_UGe"
      }
    },
    {
      "cell_type": "code",
      "source": [
        "mean = train_data.mean()\n",
        "print(\"The mean of the training set is:\", mean)\n",
        "\n",
        "std = train_data.std()\n",
        "print(\"The standard deviation of the training set is:\", std)"
      ],
      "metadata": {
        "colab": {
          "base_uri": "https://localhost:8080/"
        },
        "id": "F_Qh71j6hCoS",
        "outputId": "b49b17d2-3ef8-40c4-b4ec-9cb038ad7bea"
      },
      "execution_count": 61,
      "outputs": [
        {
          "output_type": "stream",
          "name": "stdout",
          "text": [
            "The mean of the training set is: tensor(0.6805)\n",
            "The standard deviation of the training set is: tensor(0.2930)\n"
          ]
        }
      ]
    },
    {
      "cell_type": "markdown",
      "source": [
        "Convoluted Neural Network model.\n",
        "\n",
        "❗LeakyReLU leads to overfitting.\n",
        "\n",
        "❗Being ambitious by starting with 64x64 images gives diminishing returns as it takes too long to train."
      ],
      "metadata": {
        "id": "5Gt26C0LArfe"
      }
    },
    {
      "cell_type": "code",
      "source": [
        "class CNN(nn.Module):\n",
        "\n",
        "    def __init__(self, output_size):\n",
        "\n",
        "        super(CNN, self).__init__()\n",
        "\n",
        "        self.conv = nn.Sequential(\n",
        "            # block 1:         3 x 32 x 32 --> 64 x 16 x 16        \n",
        "            nn.Conv2d(3,   64,  kernel_size=3, padding=1 ),\n",
        "            nn.ReLU(),\n",
        "            nn.Conv2d(64,  64,  kernel_size=3, padding=1 ),\n",
        "            nn.ReLU(),\n",
        "            nn.MaxPool2d(2,2),\n",
        "\n",
        "            # block 2:         64 x 16 x 16 --> 128 x 8 x 8\n",
        "            nn.Conv2d(64,  128, kernel_size=3, padding=1 ),\n",
        "            nn.ReLU(),\n",
        "            nn.Conv2d(128, 128, kernel_size=3, padding=1 ),\n",
        "            nn.ReLU(),\n",
        "            nn.MaxPool2d(2,2),\n",
        "\n",
        "            # block 3:         128 x 8 x 8 --> 256 x 4 x 4        \n",
        "            nn.Conv2d(128, 256, kernel_size=3, padding=1 ),\n",
        "            nn.ReLU(),\n",
        "            nn.Conv2d(256, 256, kernel_size=3, padding=1 ),\n",
        "            nn.ReLU(),\n",
        "            nn.MaxPool2d(2,2),\n",
        "            \n",
        "            #block 4:          256 x 4 x 4 --> 512 x 2 x 2\n",
        "            nn.Conv2d(256, 512, kernel_size=3, padding=1 ),\n",
        "            nn.ReLU(),\n",
        "            nn.MaxPool2d(2,2)\n",
        "        )\n",
        "\n",
        "        self.linear = nn.Sequential(\n",
        "            # linear layers:   512 x 2 x 2 --> 2048 --> 4096 --> 4096 --> 10\n",
        "            nn.Linear(2048, 4096),\n",
        "            nn.Linear(4096, 4096),\n",
        "            nn.Linear(4096, output_size)\n",
        "        )\n",
        "\n",
        "\n",
        "    def forward(self, x):\n",
        "\n",
        "        x = self.conv(x)\n",
        "        x = x.view(-1, 2048)\n",
        "        x = self.linear(x) \n",
        "        \n",
        "        return x"
      ],
      "metadata": {
        "id": "BxaU4_VIb12-"
      },
      "execution_count": 140,
      "outputs": []
    },
    {
      "cell_type": "code",
      "source": [
        "brand_CNN_net = CNN(10)\n",
        "     \n"
      ],
      "metadata": {
        "id": "s2YlVN7akW5h"
      },
      "execution_count": 141,
      "outputs": []
    },
    {
      "cell_type": "code",
      "source": [
        "brand_CNN_criterion = nn.CrossEntropyLoss()\n",
        "brand_CNN_lr = 0.001 \n",
        "bs = 50"
      ],
      "metadata": {
        "id": "C4FgVqOfmxBu"
      },
      "execution_count": 142,
      "outputs": []
    },
    {
      "cell_type": "code",
      "source": [
        "def get_error( scores , labels ):\n",
        "\n",
        "    bs=scores.size(0)\n",
        "    predicted_labels = scores.argmax(dim=1)\n",
        "    indicator = (predicted_labels == labels)\n",
        "    num_matches=indicator.sum()\n",
        "    \n",
        "    return 1-num_matches.float()/bs "
      ],
      "metadata": {
        "id": "0BEpgZuRqGFZ"
      },
      "execution_count": 143,
      "outputs": []
    },
    {
      "cell_type": "markdown",
      "source": [
        "Evaluation function to test model on the fly so that we can know if we are underfitting/overfitting to minimise time wastage."
      ],
      "metadata": {
        "id": "Q7_YK_fw_Fbp"
      }
    },
    {
      "cell_type": "code",
      "source": [
        "def eval_on_test_set(net, labels):\n",
        "\n",
        "    running_error = 0\n",
        "    num_batches = 0\n",
        "\n",
        "    for i in range(0, num_test_data, bs):\n",
        "\n",
        "        minibatch_data =  test_data[i:i+bs]\n",
        "        minibatch_label = labels[i:i+bs]\n",
        "\n",
        "        inputs = (minibatch_data - mean)/std\n",
        "\n",
        "        scores = net(inputs) \n",
        "\n",
        "        error = get_error(scores , minibatch_label)\n",
        "\n",
        "        running_error += error.item()\n",
        "\n",
        "        num_batches += 1\n",
        "\n",
        "    total_error = running_error/num_batches\n",
        "\n",
        "    print('test error=', total_error*100, 'percent')"
      ],
      "metadata": {
        "id": "Tbwd9Rf9nXZc"
      },
      "execution_count": 144,
      "outputs": []
    },
    {
      "cell_type": "markdown",
      "source": [
        "Training of data using mini batch gradient descent + Adam optimiser."
      ],
      "metadata": {
        "id": "MhZkoE2M-YwR"
      }
    },
    {
      "cell_type": "code",
      "source": [
        "start = time.time()\n",
        "\n",
        "for epoch in range(15):\n",
        "    \n",
        "    # create a new optimizer at the beginning of each epoch; give the current learning rate.   \n",
        "    brand_Adam_CNN_optimizer = torch.optim.Adam(brand_CNN_net.parameters() , lr=brand_CNN_lr )\n",
        "        \n",
        "    # set the running quatities to zero at the beginning of the epoch\n",
        "    running_brand_loss = 0\n",
        "    running_brand_error = 0\n",
        "    num_batches = 0\n",
        "    \n",
        "    # set the order in which to visit the image from the training set\n",
        "    shuffled_indices = torch.randperm(num_train_data)\n",
        " \n",
        "    for count in range(0, num_train_data, bs):\n",
        "    \n",
        "        # Set the gradients to zeros\n",
        "        brand_Adam_CNN_optimizer.zero_grad()\n",
        "        \n",
        "        # Create a minibatch       \n",
        "        indices = shuffled_indices[count:count+bs]\n",
        "        minibatch_data = train_data[indices]\n",
        "        minibatch_brand_labels = train_brand_labels[indices] # difference between brand & type training\n",
        "        \n",
        "        \n",
        "        # Normalize the minibatch\n",
        "        inputs = (minibatch_data - mean)/std\n",
        "        \n",
        "        # Tell Pytorch to start tracking all operations that will be done on \"inputs\"\n",
        "        inputs.requires_grad_()\n",
        "\n",
        "        # Forward the minibatch through the net \n",
        "        scores = brand_CNN_net(inputs) \n",
        "\n",
        "        # Compute the average of the losses of the data points in the minibatch\n",
        "        brand_loss = brand_CNN_criterion(scores, minibatch_brand_labels) \n",
        "        \n",
        "        # Backward pass to compute dL/dU, dL/dV and dL/dW\n",
        "        brand_loss.backward()\n",
        "\n",
        "        # Do one step of the optimizer\n",
        "        brand_Adam_CNN_optimizer.step()\n",
        "        \n",
        "\n",
        "        # START COMPUTING STATS\n",
        "        \n",
        "        # Add the loss of this batch to the running loss\n",
        "        running_brand_loss += brand_loss.detach().item()\n",
        "        \n",
        "        # Compute the error made on this batch and add it to the running error       \n",
        "        brand_error = get_error(scores.detach(), minibatch_brand_labels)\n",
        "        running_brand_error += brand_error.item()\n",
        "\n",
        "        num_batches += 1        \n",
        "    \n",
        "    \n",
        "    # compute stats for the full training set\n",
        "    total_brand_loss = running_brand_loss/num_batches\n",
        "    total_brand_error = running_brand_error/num_batches\n",
        "    elapsed = (time.time()-start)/60\n",
        "    \n",
        "\n",
        "    print('epoch=', epoch, '\\t total time=', elapsed, 'min', '\\t lr=', brand_CNN_lr, '\\t loss=', total_brand_loss, '\\t error=', total_brand_error*100, 'percent')\n",
        "\n",
        "    eval_on_test_set(brand_CNN_net, test_brand_labels) \n",
        "    print(' ')"
      ],
      "metadata": {
        "colab": {
          "base_uri": "https://localhost:8080/"
        },
        "id": "BVTd_BtbcLgX",
        "outputId": "a53175c8-2f04-4470-aba2-6fc8b733ce7e"
      },
      "execution_count": 145,
      "outputs": [
        {
          "output_type": "stream",
          "name": "stdout",
          "text": [
            "epoch= 0 \t total time= 2.080293627580007 min \t lr= 0.001 \t loss= 2.1510099407398338 \t error= 86.23013956980272 percent\n",
            "test error= 80.23754707698164 percent\n",
            " \n",
            "epoch= 1 \t total time= 4.381713537375132 min \t lr= 0.001 \t loss= 1.8857889699213433 \t error= 75.09500429485783 percent\n",
            "test error= 70.05364011073935 percent\n",
            " \n",
            "epoch= 2 \t total time= 6.669209897518158 min \t lr= 0.001 \t loss= 1.7540847586862969 \t error= 69.92219487826029 percent\n",
            "test error= 68.36015314891421 percent\n",
            " \n",
            "epoch= 3 \t total time= 8.972634820143382 min \t lr= 0.001 \t loss= 1.6160268928065444 \t error= 60.9082716884035 percent\n",
            "test error= 51.22605295016848 percent\n",
            " \n",
            "epoch= 4 \t total time= 11.266331871350607 min \t lr= 0.001 \t loss= 1.3663208665269795 \t error= 49.895986372774296 percent\n",
            "test error= 48.25287399620846 percent\n",
            " \n",
            "epoch= 5 \t total time= 13.5559303800265 min \t lr= 0.001 \t loss= 1.2308290510466604 \t error= 44.23996688741626 percent\n",
            "test error= 38.83524886493025 percent\n",
            " \n",
            "epoch= 6 \t total time= 15.860016679763794 min \t lr= 0.001 \t loss= 1.0804069051236818 \t error= 36.076166774287366 percent\n",
            "test error= 28.038314087637538 percent\n",
            " \n",
            "epoch= 7 \t total time= 18.167767914136252 min \t lr= 0.001 \t loss= 0.9574148980053988 \t error= 31.348894130099904 percent\n",
            "test error= 30.283524044628802 percent\n",
            " \n",
            "epoch= 8 \t total time= 20.453082354863486 min \t lr= 0.001 \t loss= 0.7733224327817108 \t error= 25.11547930312879 percent\n",
            "test error= 25.180076114062604 percent\n",
            " \n",
            "epoch= 9 \t total time= 22.700696591536204 min \t lr= 0.001 \t loss= 0.7049839573376107 \t error= 21.769860928708855 percent\n",
            "test error= 24.038314202736164 percent\n",
            " \n",
            "epoch= 10 \t total time= 25.043779953320822 min \t lr= 0.001 \t loss= 0.5923245016372565 \t error= 18.366913000742592 percent\n",
            "test error= 22.28352509695908 percent\n",
            " \n",
            "epoch= 11 \t total time= 27.322638547420503 min \t lr= 0.001 \t loss= 0.5360290475867011 \t error= 16.49713425925284 percent\n",
            "test error= 21.37931092032071 percent\n",
            " \n",
            "epoch= 12 \t total time= 29.634003627300263 min \t lr= 0.001 \t loss= 0.459429862372803 \t error= 14.62899311022325 percent\n",
            "test error= 23.111111131207696 percent\n",
            " \n",
            "epoch= 13 \t total time= 31.966978359222413 min \t lr= 0.001 \t loss= 0.450733070120667 \t error= 14.286650852723556 percent\n",
            "test error= 19.62452160901037 percent\n",
            " \n",
            "epoch= 14 \t total time= 34.290339847405754 min \t lr= 0.001 \t loss= 0.4303048590593266 \t error= 12.95167939229445 percent\n",
            "test error= 17.279693998139482 percent\n",
            " \n"
          ]
        }
      ]
    },
    {
      "cell_type": "markdown",
      "source": [
        "# Analysis\n",
        "\n",
        "final training set error: 12.952%\n",
        "\n",
        "final test set error: 17.280%"
      ],
      "metadata": {
        "id": "FGJen1Fi9OpP"
      }
    },
    {
      "cell_type": "code",
      "source": [
        "def show_prob_brand(p):\n",
        "    p=p.data.squeeze().numpy()\n",
        "\n",
        "    ft=15\n",
        "    label = ('arla', 'philadelphia', 'laughing_cow', 'campbell', 'heinz', 'spam', 'haribo', 'mentos', 'skittles', 'smarties')\n",
        "    #p=p.data.squeeze().numpy()\n",
        "    y_pos = np.arange(len(p))*1.2\n",
        "    target=2\n",
        "    width=0.9\n",
        "    col= 'blue'\n",
        "    #col='darkgreen'\n",
        "\n",
        "    plt.rcdefaults()\n",
        "    fig, ax = plt.subplots()\n",
        "\n",
        "    # the plot\n",
        "    ax.barh(y_pos, p, width , align='center', color=col)\n",
        "\n",
        "    ax.set_xlim([0, 1.3])\n",
        "    #ax.set_ylim([-0.8, len(p)*1.2-1+0.8])\n",
        "\n",
        "    # y label\n",
        "    ax.set_yticks(y_pos)\n",
        "    ax.set_yticklabels(label, fontsize=ft)\n",
        "    ax.invert_yaxis()  \n",
        "    #ax.set_xlabel('Performance')\n",
        "    #ax.set_title('How fast do you want to go today?')\n",
        "\n",
        "    # x label\n",
        "    ax.set_xticklabels([])\n",
        "    ax.set_xticks([])\n",
        "    #x_pos=np.array([0, 0.25 , 0.5 , 0.75 , 1])\n",
        "    #ax.set_xticks(x_pos)\n",
        "    #ax.set_xticklabels( [0, 0.25 , 0.5 , 0.75 , 1] , fontsize=15)\n",
        "\n",
        "    ax.spines['right'].set_visible(False)\n",
        "    ax.spines['top'].set_visible(False)\n",
        "    ax.spines['bottom'].set_visible(False)\n",
        "    ax.spines['left'].set_linewidth(4)\n",
        "\n",
        "\n",
        "    for i in range(len(p)):\n",
        "        str_nb=\"{0:.2f}\".format(p[i])\n",
        "        ax.text( p[i] + 0.05 , y_pos[i] ,str_nb ,\n",
        "                 horizontalalignment='left', verticalalignment='center',\n",
        "                 transform=ax.transData, color= col,fontsize=ft)\n",
        "\n",
        "    plt.show()"
      ],
      "metadata": {
        "id": "i1qIHgEZnodG"
      },
      "execution_count": 146,
      "outputs": []
    },
    {
      "cell_type": "code",
      "source": [
        "def show(X):\n",
        "    if X.dim() == 3 and X.size(0) == 3:\n",
        "        plt.imshow( np.transpose(  X.numpy() , (1, 2, 0))  )\n",
        "        plt.show()\n",
        "    elif X.dim() == 2:\n",
        "        plt.imshow(   X.numpy() , cmap='gray'  )\n",
        "        plt.show()\n",
        "    else:\n",
        "        print('WRONG TENSOR SIZE')"
      ],
      "metadata": {
        "id": "0DYBsSTXnzFT"
      },
      "execution_count": 147,
      "outputs": []
    },
    {
      "cell_type": "code",
      "source": [
        "# Choose a picture at random\n",
        "idx = randint(0, num_test_data)\n",
        "im = test_data[idx]\n",
        "\n",
        "# diplay the picture\n",
        "show(im)\n",
        "\n",
        "# send to device, rescale, and view as a batch of 1 \n",
        "im = (im-mean) / std\n",
        "im = im.view(1,3,32,32)\n",
        "\n",
        "# feed it to the net and display the confidence scores\n",
        "scores = brand_CNN_net(im) \n",
        "probs = torch.softmax(scores, dim=1)\n",
        "show_prob_brand(probs.cpu())"
      ],
      "metadata": {
        "colab": {
          "base_uri": "https://localhost:8080/",
          "height": 819
        },
        "id": "4ieLE9w9l7r5",
        "outputId": "64e856b9-b457-4b3e-e90d-2dd1270d0423"
      },
      "execution_count": 148,
      "outputs": [
        {
          "output_type": "display_data",
          "data": {
            "text/plain": [
              "<Figure size 640x480 with 1 Axes>"
            ],
            "image/png": "[encoded data removed]"
          },
          "metadata": {}
        },
        {
          "output_type": "display_data",
          "data": {
            "text/plain": [
              "<Figure size 640x480 with 1 Axes>"
            ],
            "image/png": "[encoded data removed]"
          },
          "metadata": {}
        }
      ]
    },
    {
      "cell_type": "markdown",
      "source": [
        "A simple heatmap generated using captum to make sure the AI is identifying the correct parts of the image."
      ],
      "metadata": {
        "id": "R6l_YfD89qHl"
      }
    },
    {
      "cell_type": "code",
      "source": [
        "brand_classes = [\n",
        "    \"arla\",\n",
        "    \"philadelphia\",\n",
        "    \"laughing_cow\",\n",
        "    \"campbell\",\n",
        "    \"heinz\",\n",
        "    \"spam\",\n",
        "    \"haribo\",\n",
        "    \"mentos\",\n",
        "    \"skittles\",\n",
        "    \"smarties\"\n",
        "]\n",
        "\n",
        "rand_idx = randint(0, num_test_data)\n",
        "\n",
        "def_x = test_data[rand_idx] # test image\n",
        "x = (def_x-mean) / std\n",
        "x = x.view(1,3,32,32)\n",
        "y = test_brand_labels[rand_idx] # associated test label\n",
        "\n",
        "brand_CNN_net.eval()\n",
        "scores = brand_CNN_net(x) # get the raw scores\n",
        "probs = scores.data.squeeze()\n",
        "probs, idx = probs.sort(0, True)\n",
        "\n",
        "print('true class: ', brand_classes[y])\n",
        "print('predicated class: ', brand_classes[idx[0]])\n",
        "\n",
        "assert y == idx[0], \"We want to visualize what the model is focusing on for a correct prediction, run again for another random sample!\"\n",
        "\n",
        "ig = captum.attr.IntegratedGradients(brand_CNN_net)\n",
        "attribution = (ig.attribute(x, target=y))\n",
        "\n",
        "\n",
        "_ = captum.attr.visualization.visualize_image_attr_multiple(np.transpose(attribution.squeeze().numpy(), (1,2,0)), \n",
        "                                                   np.transpose(def_x.squeeze().numpy(), (1,2,0)), \n",
        "                                                   methods=[\"original_image\", \"heat_map\"],\n",
        "                                                   signs=['all', 'positive'],\n",
        "                                                   show_colorbar =True)\n"
      ],
      "metadata": {
        "colab": {
          "base_uri": "https://localhost:8080/",
          "height": 491
        },
        "id": "Yyt64KZVDQ_d",
        "outputId": "cdbef786-9066-47f2-ba85-531a48560336"
      },
      "execution_count": 341,
      "outputs": [
        {
          "output_type": "stream",
          "name": "stdout",
          "text": [
            "true class:  spam\n",
            "predicated class:  spam\n"
          ]
        },
        {
          "output_type": "display_data",
          "data": {
            "text/plain": [
              "<Figure size 800x600 with 4 Axes>"
            ],
            "image/png": "[encoded data removed]"
          },
          "metadata": {}
        }
      ]
    }
  ]
}